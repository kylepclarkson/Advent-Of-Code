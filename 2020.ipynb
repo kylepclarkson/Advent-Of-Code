{
 "cells": [
  {
   "cell_type": "markdown",
   "metadata": {},
   "source": [
    "# Advent of Code 2020\n",
    "---\n"
   ]
  },
  {
   "cell_type": "markdown",
   "metadata": {},
   "source": [
    "## Day 1\n",
    "Finding numbers that sum to '2020' and determining their product.  "
   ]
  },
  {
   "cell_type": "code",
   "execution_count": 24,
   "metadata": {},
   "outputs": [
    {
     "name": "stdout",
     "output_type": "stream",
     "text": [
      "49214880.0\n",
      "49214880.0\n",
      "49214880.0\n",
      "49214880.0\n",
      "49214880.0\n",
      "49214880.0\n"
     ]
    },
    {
     "data": {
      "text/plain": [
       "[None, None, None, None, None, None]"
      ]
     },
     "execution_count": 24,
     "metadata": {},
     "output_type": "execute_result"
    }
   ],
   "source": [
    "# Read numbers from file. Each line contains a number.\n",
    "file = open('inputs/day1.txt', 'r')\n",
    "inputs = []\n",
    "\n",
    "while True:\n",
    "    line = file.readline()\n",
    "    if not line:\n",
    "        break\n",
    "    else:\n",
    "        inputs.append(float(line.strip()))\n",
    "        \n",
    "# store x*y such that x+y = 2020\n",
    "# print(inputs)\n",
    "sols = []\n",
    "for x in inputs:\n",
    "    for y in inputs:\n",
    "        for z in inputs:\n",
    "            if x+y+z == 2020:\n",
    "                sols.append(x*y*z)\n",
    "\n",
    "[print(x) for x in sols]\n"
   ]
  },
  {
   "cell_type": "markdown",
   "metadata": {},
   "source": [
    "## Day 2 - Password Philosophy\n"
   ]
  },
  {
   "cell_type": "code",
   "execution_count": 43,
   "metadata": {},
   "outputs": [],
   "source": [
    "class PasswordPolicy:\n",
    "    ''' A class for holding password data. '''\n",
    "    def __init__(self, pwd, char, lower, upper):\n",
    "        self.pwd = pwd\n",
    "        self.char = char\n",
    "        self.lower = lower \n",
    "        self.upper = upper\n",
    "    \n",
    "    def isValid(self):\n",
    "        ''' \n",
    "        Returns true if count of char in pwd falls within limits. False otherwise. \n",
    "        Used in part one of question.\n",
    "        '''\n",
    "        \n",
    "        if self.pwd is not None:\n",
    "            count = 0\n",
    "            for c in self.pwd:\n",
    "                if c == self.char:\n",
    "                    count += 1\n",
    "            \n",
    "            if count <= self.upper and count >= self.lower:\n",
    "                return True\n",
    "        return False\n",
    "    def isValid2(self):\n",
    "        '''\n",
    "        Returns true if exaclty one of the characters at positions lower and upper\n",
    "        matches char (xor.)\n",
    "        Used in part two of question.\n",
    "        '''\n",
    "        if self.pwd is not None:\n",
    "            flag_lower = True if self.pwd[self.lower-1] == self.char else False\n",
    "            flag_upper = True if self.pwd[self.upper-1] == self.char else False\n",
    "            return flag_lower != flag_upper"
   ]
  },
  {
   "cell_type": "code",
   "execution_count": 44,
   "metadata": {},
   "outputs": [
    {
     "name": "stdout",
     "output_type": "stream",
     "text": [
      "Valid passwords: 352\n"
     ]
    }
   ],
   "source": [
    "\"\"\"\n",
    "Read policy and passwords. Password is after colon and policy before.\n",
    "\"\"\"\n",
    "file = open('inputs/day2.txt', 'r')\n",
    "inputs = []\n",
    "\n",
    "while True:\n",
    "    line = file.readline()\n",
    "    if not line:\n",
    "        break\n",
    "    else:\n",
    "        parts = line.split(':')\n",
    "        password = parts[1].strip()\n",
    "        parts = parts[0].split()\n",
    "        character = parts[1].strip()\n",
    "        parts = parts[0].split('-')\n",
    "        lower_limit = int(parts[0])\n",
    "        upper_limit = int(parts[1])\n",
    "        \n",
    "        inputs.append(PasswordPolicy(password,\n",
    "                                    character, \n",
    "                                    lower_limit, \n",
    "                                    upper_limit))\n",
    "#         print(f'Password: {password} character: {character} limits: {lower_limit},{upper_limit}')\n",
    "counts = 0\n",
    "for p in inputs:\n",
    "    if p.isValid2():\n",
    "        counts += 1\n",
    "print(f'Valid passwords: {counts}')"
   ]
  },
  {
   "cell_type": "markdown",
   "metadata": {},
   "source": [
    "## Day 3 - ???"
   ]
  },
  {
   "cell_type": "code",
   "execution_count": null,
   "metadata": {},
   "outputs": [],
   "source": []
  }
 ],
 "metadata": {
  "kernelspec": {
   "display_name": "Python 3",
   "language": "python",
   "name": "python3"
  },
  "language_info": {
   "codemirror_mode": {
    "name": "ipython",
    "version": 3
   },
   "file_extension": ".py",
   "mimetype": "text/x-python",
   "name": "python",
   "nbconvert_exporter": "python",
   "pygments_lexer": "ipython3",
   "version": "3.7.9"
  }
 },
 "nbformat": 4,
 "nbformat_minor": 4
}
