{
 "cells": [
  {
   "cell_type": "markdown",
   "metadata": {},
   "source": [
    "# Advent of Code 2020\n",
    "---\n"
   ]
  },
  {
   "cell_type": "markdown",
   "metadata": {},
   "source": [
    "## Day 1\n",
    "Finding numbers that sum to '2020' and determining their product.  "
   ]
  },
  {
   "cell_type": "code",
   "execution_count": 24,
   "metadata": {},
   "outputs": [
    {
     "name": "stdout",
     "output_type": "stream",
     "text": [
      "49214880.0\n",
      "49214880.0\n",
      "49214880.0\n",
      "49214880.0\n",
      "49214880.0\n",
      "49214880.0\n"
     ]
    },
    {
     "data": {
      "text/plain": [
       "[None, None, None, None, None, None]"
      ]
     },
     "execution_count": 24,
     "metadata": {},
     "output_type": "execute_result"
    }
   ],
   "source": [
    "# Read numbers from file. Each line contains a number.\n",
    "file = open('inputs/day1.txt', 'r')\n",
    "inputs = []\n",
    "\n",
    "while True:\n",
    "    line = file.readline()\n",
    "    if not line:\n",
    "        break\n",
    "    else:\n",
    "        inputs.append(float(line.strip()))\n",
    "        \n",
    "# store x*y such that x+y = 2020\n",
    "# print(inputs)\n",
    "sols = []\n",
    "for x in inputs:\n",
    "    for y in inputs:\n",
    "        for z in inputs:\n",
    "            if x+y+z == 2020:\n",
    "                sols.append(x*y*z)\n",
    "\n",
    "[print(x) for x in sols]\n"
   ]
  },
  {
   "cell_type": "markdown",
   "metadata": {},
   "source": [
    "## Day 2 - Password Philosophy\n"
   ]
  },
  {
   "cell_type": "code",
   "execution_count": 43,
   "metadata": {},
   "outputs": [],
   "source": [
    "class PasswordPolicy:\n",
    "    ''' A class for holding password data. '''\n",
    "    def __init__(self, pwd, char, lower, upper):\n",
    "        self.pwd = pwd\n",
    "        self.char = char\n",
    "        self.lower = lower \n",
    "        self.upper = upper\n",
    "    \n",
    "    def isValid(self):\n",
    "        ''' \n",
    "        Returns true if count of char in pwd falls within limits. False otherwise. \n",
    "        Used in part one of question.\n",
    "        '''\n",
    "        \n",
    "        if self.pwd is not None:\n",
    "            count = 0\n",
    "            for c in self.pwd:\n",
    "                if c == self.char:\n",
    "                    count += 1\n",
    "            \n",
    "            if count <= self.upper and count >= self.lower:\n",
    "                return True\n",
    "        return False\n",
    "    def isValid2(self):\n",
    "        '''\n",
    "        Returns true if exaclty one of the characters at positions lower and upper\n",
    "        matches char (xor.)\n",
    "        Used in part two of question.\n",
    "        '''\n",
    "        if self.pwd is not None:\n",
    "            flag_lower = True if self.pwd[self.lower-1] == self.char else False\n",
    "            flag_upper = True if self.pwd[self.upper-1] == self.char else False\n",
    "            return flag_lower != flag_upper"
   ]
  },
  {
   "cell_type": "code",
   "execution_count": 44,
   "metadata": {},
   "outputs": [
    {
     "name": "stdout",
     "output_type": "stream",
     "text": [
      "Valid passwords: 352\n"
     ]
    }
   ],
   "source": [
    "\"\"\"\n",
    "Read policy and passwords. Password is after colon and policy before.\n",
    "\"\"\"\n",
    "file = open('inputs/day2.txt', 'r')\n",
    "inputs = []\n",
    "\n",
    "while True:\n",
    "    line = file.readline()\n",
    "    if not line:\n",
    "        break\n",
    "    else:\n",
    "        parts = line.split(':')\n",
    "        password = parts[1].strip()\n",
    "        parts = parts[0].split()\n",
    "        character = parts[1].strip()\n",
    "        parts = parts[0].split('-')\n",
    "        lower_limit = int(parts[0])\n",
    "        upper_limit = int(parts[1])\n",
    "        \n",
    "        inputs.append(PasswordPolicy(password,\n",
    "                                    character, \n",
    "                                    lower_limit, \n",
    "                                    upper_limit))\n",
    "#         print(f'Password: {password} character: {character} limits: {lower_limit},{upper_limit}')\n",
    "counts = 0\n",
    "for p in inputs:\n",
    "    if p.isValid2():\n",
    "        counts += 1\n",
    "print(f'Valid passwords: {counts}')"
   ]
  },
  {
   "cell_type": "markdown",
   "metadata": {},
   "source": [
    "## Day 3 - Toboggan Trajectory\n",
    "\n",
    "A file displays the trees present on a mountain. Starting at the top-left position (first line, left position of the file) count the number trees encountered in a traverse down the hill. \n",
    "\n",
    "Idea: Given the starting position on the previous line, compute the position we will arrive at on the current line. \n"
   ]
  },
  {
   "cell_type": "code",
   "execution_count": 27,
   "metadata": {},
   "outputs": [
    {
     "name": "stdout",
     "output_type": "stream",
     "text": [
      "[58, 223, 105, 74, 35]\n",
      "3517401300\n"
     ]
    }
   ],
   "source": [
    "\"\"\"\n",
    "Read policy and passwords. Password is after colon and policy before.\n",
    "\"\"\"\n",
    "file = open('inputs/day3.txt', 'r')\n",
    "lines = []\n",
    "\n",
    "while True:\n",
    "    line = file.readline()\n",
    "    if not line:\n",
    "        break\n",
    "    else:\n",
    "        lines.append(line.strip())\n",
    "\n",
    "X = [1, 3, 5, 7, 1]\n",
    "Y = [1, 1, 1, 1, 2]\n",
    "sols = []\n",
    "\n",
    "lines = lines[1:len(lines)]\n",
    "line_length = len(lines[0])\n",
    "\n",
    "# For each slope compute numbers\n",
    "for i in range(len(X)):\n",
    "    x = 0\n",
    "    y = 0\n",
    "    count = 0 \n",
    "    for line in lines:\n",
    "        # skip line\n",
    "        y += 1\n",
    "        if y % Y[i] != 0:\n",
    "            # skip line\n",
    "            a = 1\n",
    "            \n",
    "        else:\n",
    "            x += X[i]\n",
    "\n",
    "            if line[x%line_length] == '#':\n",
    "                count += 1\n",
    "    sols.append(count)\n",
    "\n",
    "print(sols)\n",
    "out = 1\n",
    "for s in sols:\n",
    "    out *= s\n",
    "print(out)"
   ]
  },
  {
   "cell_type": "markdown",
   "metadata": {},
   "source": [
    "## Day 4  - Passport Processing\n",
    "\n",
    "File contains passport data; 8 key:value fields.\n",
    "A passport is valid if it contains all 7 of the 8 fields ('cid' is optional.)"
   ]
  },
  {
   "cell_type": "code",
   "execution_count": 159,
   "metadata": {},
   "outputs": [
    {
     "name": "stdout",
     "output_type": "stream",
     "text": [
      "Entries: 265\n",
      "Valid entires: 116\n"
     ]
    }
   ],
   "source": [
    "import re\n",
    "\n",
    "\"\"\"\n",
    "Fields\n",
    "\"\"\"\n",
    "file = open('inputs_2020/day4.txt', 'r')\n",
    "entries = []\n",
    "curr_entry = []\n",
    "\n",
    "'''\n",
    "Read file contents such that each passport's fields are in a list of list. \n",
    "'''\n",
    "done = False\n",
    "while not done:\n",
    "    line = file.readline()\n",
    "    if not line:\n",
    "        done = True\n",
    "        entries.append(curr_entry)\n",
    "    else:\n",
    "        if line != '\\n':\n",
    "            # split contents of line by spaces. Add each key:value to curr_entry\n",
    "            [curr_entry.append(x) for x in line.strip().split(' ')]\n",
    "        else:\n",
    "            entries.append(curr_entry)\n",
    "            curr_entry = []\n",
    "print(f'Entries: {len(entries)}')\n",
    "'''\n",
    "Check if each entry of lines is valid.\n",
    "'''\n",
    "def isValid1(entry):\n",
    "    ''' Input: list of k:v pairs. Returns true if valid (part 1)'''\n",
    "    needed_keys = [\"byr\",\n",
    "                   \"iyr\",\n",
    "                   \"eyr\",\n",
    "                   \"hgt\",\n",
    "                   \"hcl\",\n",
    "                   \"ecl\",\n",
    "                   \"pid\"]\n",
    "    needed_key_count = 0\n",
    "    for x in entry:\n",
    "        key = str(x.split(':')[0])\n",
    "        if key == \"cid\":\n",
    "            continue\n",
    "        if key in needed_keys:\n",
    "            needed_key_count += 1\n",
    "            \n",
    "    return needed_key_count == 7\n",
    "\n",
    "def isValid2(entry):\n",
    "    needed_keys = [\"byr\",\n",
    "                   \"iyr\",\n",
    "                   \"eyr\",\n",
    "                   \"hgt\",\n",
    "                   \"hcl\",\n",
    "                   \"ecl\",\n",
    "                   \"pid\"]\n",
    "    needed_key_count = 0\n",
    "    for x in entry:\n",
    "        key, value = x.split(':')[0], x.split(':')[1].strip()\n",
    "\n",
    "        if key in needed_keys:\n",
    "            needed_key_count += 1\n",
    "        \n",
    "        if key == \"cid\":\n",
    "            continue\n",
    "        elif key == \"pid\":\n",
    "            if len(value) != 9:\n",
    "                return False\n",
    "            elif not value.isnumeric():\n",
    "                return False\n",
    "        elif key == \"ecl\":\n",
    "            if value not in [\"amb\", \"blu\", \"brn\", \"gry\", \"grn\", \"hzl\", \"oth\"]:\n",
    "                return False\n",
    "        elif key == \"hcl\":\n",
    "            if value[0] != '#':\n",
    "                return False\n",
    "            elif len(value[1:]) != 6:\n",
    "                return False\n",
    "            elif not re.match('^[0-9]*', value[1:]) or not re.match('^[a-f]*', value[1:]):\n",
    "                return False\n",
    "        elif key == \"hgt\":\n",
    "            if len(value) <= 2:\n",
    "                return False\n",
    "            if value[-2:] not in ['cm', 'in']:\n",
    "                return False\n",
    "            height = float(value[:-2])\n",
    "            if value[-2:] == 'cm':\n",
    "                if height < 150 or height > 193:\n",
    "                    return False\n",
    "            else:\n",
    "                if height < 59 or height > 76:\n",
    "                    return False\n",
    "        elif key == \"eyr\":\n",
    "            if not value.isnumeric() or len(value) != 4:\n",
    "                return False\n",
    "            year = int(value)\n",
    "            if year < 2020 or year > 2030:\n",
    "                return False\n",
    "        elif key == \"iyr\":\n",
    "            if not value.isnumeric() or len(value) != 4:\n",
    "                return False\n",
    "            year = int(value)\n",
    "            if year < 2010 or year > 2020:\n",
    "                return False\n",
    "        elif key == \"byr\":\n",
    "            if not value.isnumeric() or len(value) != 4:\n",
    "                return False\n",
    "            year = int(value)\n",
    "            if year < 1920 or year > 2002:\n",
    "                return False\n",
    "            \n",
    "    return needed_key_count == 7\n",
    "    \n",
    "\n",
    "valid_count = 0\n",
    "# print(entries)\n",
    "for entry in entries:\n",
    "    if isValid2(entry):\n",
    "        valid_count += 1\n",
    "    \n",
    "print(f'Valid entires: {valid_count}')"
   ]
  },
  {
   "cell_type": "markdown",
   "metadata": {},
   "source": [
    "## Day 5 - Binary Boarding\n",
    "\n",
    "Part 2 idea: Get all seat id's in list, sort."
   ]
  },
  {
   "cell_type": "code",
   "execution_count": 177,
   "metadata": {},
   "outputs": [
    {
     "name": "stdout",
     "output_type": "stream",
     "text": [
      "num of seats: 809\n",
      "822\n",
      "705\n"
     ]
    }
   ],
   "source": [
    "\"\"\"\n",
    "Read boarding passes from file\n",
    "\"\"\"\n",
    "file = open('inputs_2020/day5.txt', 'r')\n",
    "lines = []\n",
    "\n",
    "while True:\n",
    "    line = file.readline()\n",
    "    if not line:\n",
    "        break\n",
    "    else:\n",
    "        lines.append(line.strip())\n",
    "    \n",
    "num_of_seats = len(lines)\n",
    "seats = []\n",
    "print(f'num of seats: {len(lines)}')\n",
    "largest_seat_id = -1\n",
    "for bpass in lines:\n",
    "    low,high = 0,127\n",
    "    for char in bpass[:-3]:\n",
    "        mid = (high + low + 1) // 2\n",
    "        if char == 'F':\n",
    "            high = mid\n",
    "        else:\n",
    "            low = mid\n",
    "    row = low\n",
    "    low, high = 0, 7\n",
    "    for char in bpass[-3:]:\n",
    "        mid = (high + low + 1) // 2\n",
    "        if char == 'L':\n",
    "            high = mid\n",
    "        else:\n",
    "            low = mid\n",
    "    col = low\n",
    "    seat_id = row*8 + col\n",
    "    seats.append(seat_id)\n",
    "    if seat_id > largest_seat_id:\n",
    "        largest_seat_id = seat_id\n",
    "\n",
    "print(largest_seat_id)\n",
    "seats = sorted(seats)\n",
    "my_seat_id = -1\n",
    "for i in range(len(seats)-1):\n",
    "    if seats[i+1] - seats[i] != 1:\n",
    "        my_seat_id = seats[i]+1\n",
    "        break\n",
    "print(my_seat_id)"
   ]
  },
  {
   "cell_type": "markdown",
   "metadata": {},
   "source": [
    "## Day 6 - Custom Customs"
   ]
  },
  {
   "cell_type": "code",
   "execution_count": 196,
   "metadata": {},
   "outputs": [
    {
     "name": "stdout",
     "output_type": "stream",
     "text": [
      "[['a', 'b', 'c'], ['a', 'b', 'c'], ['a', 'b', 'a', 'c'], ['a', 'a', 'a', 'a'], ['b']]\n",
      "2\n"
     ]
    }
   ],
   "source": [
    "\"\"\"\n",
    "Part 1\n",
    "Read responses. \n",
    "Reach new line that is empty separates groups. \n",
    "\"\"\"\n",
    "file = open('inputs_2020/day6.txt', 'r')\n",
    "# list of list\n",
    "responses = []\n",
    "group_response = []\n",
    "while True:\n",
    "    line = file.readline()\n",
    "    if not line:\n",
    "        responses.append(group_response)\n",
    "        break\n",
    "    elif line == '\\n':\n",
    "        responses.append(group_response)\n",
    "        group_response = []\n",
    "    else:\n",
    "        [group_response.append(char) for char in line.strip()]\n",
    "                \n",
    "def part1(responses):\n",
    "    # Use dict to count occurrences of responses, per group\n",
    "    total = 0\n",
    "    for res in responses:\n",
    "        dic = {}\n",
    "        for r in res:\n",
    "            if r not in dic:\n",
    "                dic[r] = 1\n",
    "        for x in dic.values():\n",
    "            total += x\n",
    "    print(total)\n",
    "    \n",
    "def part2(responses):\n",
    "    # Use dict to count occurrences of responses, per group\n",
    "    total = 0\n",
    "    for res in responses:\n",
    "        dic = {}\n",
    "        count = 0\n",
    "        for r in res:\n",
    "            if r not in dic:\n",
    "                dic[r] = 1\n",
    "            else:\n",
    "                dic[r] = dic[r] + 1\n",
    "                count += 1\n",
    "        for x in dic.values():\n",
    "            if x == count:\n",
    "                total += 1\n",
    "    print(total)\n",
    "    \n",
    "print(responses)\n",
    "part2(responses)"
   ]
  },
  {
   "cell_type": "code",
   "execution_count": 209,
   "metadata": {},
   "outputs": [
    {
     "name": "stdout",
     "output_type": "stream",
     "text": [
      "3229\n"
     ]
    }
   ],
   "source": [
    "\"\"\"\n",
    "Part 2\n",
    "Read responses. \n",
    "Reach new line that is empty separates groups. \n",
    "\"\"\"\n",
    "file = open('inputs_2020/day6.txt', 'r')\n",
    "# list of list\n",
    "responses = []\n",
    "group_response = []\n",
    "while True:\n",
    "    line = file.readline()\n",
    "    if not line:\n",
    "        responses.append(group_response)\n",
    "        break\n",
    "    elif line == '\\n':\n",
    "        responses.append(group_response)\n",
    "        group_response = []\n",
    "    else:\n",
    "        group_response.append(line.strip())\n",
    "    \n",
    "def part2(responses):\n",
    "    # Use dict to count occurrences of responses, per group\n",
    "    total = 0\n",
    "    for res in responses:\n",
    "        dic = {}\n",
    "        count = 0\n",
    "        for r in res:\n",
    "            for c in r:\n",
    "                if c not in dic:\n",
    "                    dic[c] = 1\n",
    "                else:\n",
    "                    dic[c] = dic[c] + 1\n",
    "        for k,v in dic.items():\n",
    "            if v == len(res):\n",
    "                total += 1\n",
    "    print(total)\n",
    "    \n",
    "# print(responses)\n",
    "part2(responses)"
   ]
  },
  {
   "cell_type": "markdown",
   "metadata": {},
   "source": [
    "## Day 7 - Handy Haversacks"
   ]
  }
 ],
 "metadata": {
  "kernelspec": {
   "display_name": "Python 3",
   "language": "python",
   "name": "python3"
  },
  "language_info": {
   "codemirror_mode": {
    "name": "ipython",
    "version": 3
   },
   "file_extension": ".py",
   "mimetype": "text/x-python",
   "name": "python",
   "nbconvert_exporter": "python",
   "pygments_lexer": "ipython3",
   "version": "3.7.9"
  }
 },
 "nbformat": 4,
 "nbformat_minor": 4
}
