{
 "cells": [
  {
   "cell_type": "markdown",
   "metadata": {},
   "source": [
    "# Advent of Code 2020\n",
    "---\n"
   ]
  },
  {
   "cell_type": "markdown",
   "metadata": {},
   "source": [
    "## Day 1\n",
    "Finding numbers that sum to '2020' and determining their product.  "
   ]
  },
  {
   "cell_type": "code",
   "execution_count": 24,
   "metadata": {},
   "outputs": [
    {
     "name": "stdout",
     "output_type": "stream",
     "text": [
      "49214880.0\n",
      "49214880.0\n",
      "49214880.0\n",
      "49214880.0\n",
      "49214880.0\n",
      "49214880.0\n"
     ]
    },
    {
     "data": {
      "text/plain": [
       "[None, None, None, None, None, None]"
      ]
     },
     "execution_count": 24,
     "metadata": {},
     "output_type": "execute_result"
    }
   ],
   "source": [
    "# Read numbers from file. Each line contains a number.\n",
    "file = open('inputs/day1.txt', 'r')\n",
    "inputs = []\n",
    "\n",
    "while True:\n",
    "    line = file.readline()\n",
    "    if not line:\n",
    "        break\n",
    "    else:\n",
    "        inputs.append(float(line.strip()))\n",
    "        \n",
    "# store x*y such that x+y = 2020\n",
    "# print(inputs)\n",
    "sols = []\n",
    "for x in inputs:\n",
    "    for y in inputs:\n",
    "        for z in inputs:\n",
    "            if x+y+z == 2020:\n",
    "                sols.append(x*y*z)\n",
    "\n",
    "[print(x) for x in sols]\n"
   ]
  },
  {
   "cell_type": "markdown",
   "metadata": {},
   "source": [
    "## Day 2 - Password Philosophy\n"
   ]
  },
  {
   "cell_type": "code",
   "execution_count": 43,
   "metadata": {},
   "outputs": [],
   "source": [
    "class PasswordPolicy:\n",
    "    ''' A class for holding password data. '''\n",
    "    def __init__(self, pwd, char, lower, upper):\n",
    "        self.pwd = pwd\n",
    "        self.char = char\n",
    "        self.lower = lower \n",
    "        self.upper = upper\n",
    "    \n",
    "    def isValid(self):\n",
    "        ''' \n",
    "        Returns true if count of char in pwd falls within limits. False otherwise. \n",
    "        Used in part one of question.\n",
    "        '''\n",
    "        \n",
    "        if self.pwd is not None:\n",
    "            count = 0\n",
    "            for c in self.pwd:\n",
    "                if c == self.char:\n",
    "                    count += 1\n",
    "            \n",
    "            if count <= self.upper and count >= self.lower:\n",
    "                return True\n",
    "        return False\n",
    "    def isValid2(self):\n",
    "        '''\n",
    "        Returns true if exaclty one of the characters at positions lower and upper\n",
    "        matches char (xor.)\n",
    "        Used in part two of question.\n",
    "        '''\n",
    "        if self.pwd is not None:\n",
    "            flag_lower = True if self.pwd[self.lower-1] == self.char else False\n",
    "            flag_upper = True if self.pwd[self.upper-1] == self.char else False\n",
    "            return flag_lower != flag_upper"
   ]
  },
  {
   "cell_type": "code",
   "execution_count": 44,
   "metadata": {},
   "outputs": [
    {
     "name": "stdout",
     "output_type": "stream",
     "text": [
      "Valid passwords: 352\n"
     ]
    }
   ],
   "source": [
    "\"\"\"\n",
    "Read policy and passwords. Password is after colon and policy before.\n",
    "\"\"\"\n",
    "file = open('inputs/day2.txt', 'r')\n",
    "inputs = []\n",
    "\n",
    "while True:\n",
    "    line = file.readline()\n",
    "    if not line:\n",
    "        break\n",
    "    else:\n",
    "        parts = line.split(':')\n",
    "        password = parts[1].strip()\n",
    "        parts = parts[0].split()\n",
    "        character = parts[1].strip()\n",
    "        parts = parts[0].split('-')\n",
    "        lower_limit = int(parts[0])\n",
    "        upper_limit = int(parts[1])\n",
    "        \n",
    "        inputs.append(PasswordPolicy(password,\n",
    "                                    character, \n",
    "                                    lower_limit, \n",
    "                                    upper_limit))\n",
    "#         print(f'Password: {password} character: {character} limits: {lower_limit},{upper_limit}')\n",
    "counts = 0\n",
    "for p in inputs:\n",
    "    if p.isValid2():\n",
    "        counts += 1\n",
    "print(f'Valid passwords: {counts}')"
   ]
  },
  {
   "cell_type": "markdown",
   "metadata": {},
   "source": [
    "## Day 3 - Toboggan Trajectory\n",
    "\n",
    "A file displays the trees present on a mountain. Starting at the top-left position (first line, left position of the file) count the number trees encountered in a traverse down the hill. \n",
    "\n",
    "Idea: Given the starting position on the previous line, compute the position we will arrive at on the current line. \n"
   ]
  },
  {
   "cell_type": "code",
   "execution_count": 27,
   "metadata": {},
   "outputs": [
    {
     "name": "stdout",
     "output_type": "stream",
     "text": [
      "[58, 223, 105, 74, 35]\n",
      "3517401300\n"
     ]
    }
   ],
   "source": [
    "\"\"\"\n",
    "Read policy and passwords. Password is after colon and policy before.\n",
    "\"\"\"\n",
    "file = open('inputs/day3.txt', 'r')\n",
    "lines = []\n",
    "\n",
    "while True:\n",
    "    line = file.readline()\n",
    "    if not line:\n",
    "        break\n",
    "    else:\n",
    "        lines.append(line.strip())\n",
    "\n",
    "X = [1, 3, 5, 7, 1]\n",
    "Y = [1, 1, 1, 1, 2]\n",
    "sols = []\n",
    "\n",
    "lines = lines[1:len(lines)]\n",
    "line_length = len(lines[0])\n",
    "\n",
    "# For each slope compute numbers\n",
    "for i in range(len(X)):\n",
    "    x = 0\n",
    "    y = 0\n",
    "    count = 0 \n",
    "    for line in lines:\n",
    "        # skip line\n",
    "        y += 1\n",
    "        if y % Y[i] != 0:\n",
    "            # skip line\n",
    "            a = 1\n",
    "            \n",
    "        else:\n",
    "            x += X[i]\n",
    "\n",
    "            if line[x%line_length] == '#':\n",
    "                count += 1\n",
    "    sols.append(count)\n",
    "\n",
    "print(sols)\n",
    "out = 1\n",
    "for s in sols:\n",
    "    out *= s\n",
    "print(out)"
   ]
  },
  {
   "cell_type": "markdown",
   "metadata": {},
   "source": [
    "## Day 4  - Passport Processing\n",
    "\n",
    "File contains passport data; 8 key:value fields.\n",
    "A passport is valid if it contains all 7 of the 8 fields ('cid' is optional.)"
   ]
  },
  {
   "cell_type": "code",
   "execution_count": 159,
   "metadata": {},
   "outputs": [
    {
     "name": "stdout",
     "output_type": "stream",
     "text": [
      "Entries: 265\n",
      "Valid entires: 116\n"
     ]
    }
   ],
   "source": [
    "import re\n",
    "\n",
    "\"\"\"\n",
    "Fields\n",
    "\"\"\"\n",
    "file = open('inputs_2020/day4.txt', 'r')\n",
    "entries = []\n",
    "curr_entry = []\n",
    "\n",
    "'''\n",
    "Read file contents such that each passport's fields are in a list of list. \n",
    "'''\n",
    "done = False\n",
    "while not done:\n",
    "    line = file.readline()\n",
    "    if not line:\n",
    "        done = True\n",
    "        entries.append(curr_entry)\n",
    "    else:\n",
    "        if line != '\\n':\n",
    "            # split contents of line by spaces. Add each key:value to curr_entry\n",
    "            [curr_entry.append(x) for x in line.strip().split(' ')]\n",
    "        else:\n",
    "            entries.append(curr_entry)\n",
    "            curr_entry = []\n",
    "print(f'Entries: {len(entries)}')\n",
    "'''\n",
    "Check if each entry of lines is valid.\n",
    "'''\n",
    "def isValid1(entry):\n",
    "    ''' Input: list of k:v pairs. Returns true if valid (part 1)'''\n",
    "    needed_keys = [\"byr\",\n",
    "                   \"iyr\",\n",
    "                   \"eyr\",\n",
    "                   \"hgt\",\n",
    "                   \"hcl\",\n",
    "                   \"ecl\",\n",
    "                   \"pid\"]\n",
    "    needed_key_count = 0\n",
    "    for x in entry:\n",
    "        key = str(x.split(':')[0])\n",
    "        if key == \"cid\":\n",
    "            continue\n",
    "        if key in needed_keys:\n",
    "            needed_key_count += 1\n",
    "            \n",
    "    return needed_key_count == 7\n",
    "\n",
    "def isValid2(entry):\n",
    "    needed_keys = [\"byr\",\n",
    "                   \"iyr\",\n",
    "                   \"eyr\",\n",
    "                   \"hgt\",\n",
    "                   \"hcl\",\n",
    "                   \"ecl\",\n",
    "                   \"pid\"]\n",
    "    needed_key_count = 0\n",
    "    for x in entry:\n",
    "        key, value = x.split(':')[0], x.split(':')[1].strip()\n",
    "\n",
    "        if key in needed_keys:\n",
    "            needed_key_count += 1\n",
    "        \n",
    "        if key == \"cid\":\n",
    "            continue\n",
    "        elif key == \"pid\":\n",
    "            if len(value) != 9:\n",
    "                return False\n",
    "            elif not value.isnumeric():\n",
    "                return False\n",
    "        elif key == \"ecl\":\n",
    "            if value not in [\"amb\", \"blu\", \"brn\", \"gry\", \"grn\", \"hzl\", \"oth\"]:\n",
    "                return False\n",
    "        elif key == \"hcl\":\n",
    "            if value[0] != '#':\n",
    "                return False\n",
    "            elif len(value[1:]) != 6:\n",
    "                return False\n",
    "            elif not re.match('^[0-9]*', value[1:]) or not re.match('^[a-f]*', value[1:]):\n",
    "                return False\n",
    "        elif key == \"hgt\":\n",
    "            if len(value) <= 2:\n",
    "                return False\n",
    "            if value[-2:] not in ['cm', 'in']:\n",
    "                return False\n",
    "            height = float(value[:-2])\n",
    "            if value[-2:] == 'cm':\n",
    "                if height < 150 or height > 193:\n",
    "                    return False\n",
    "            else:\n",
    "                if height < 59 or height > 76:\n",
    "                    return False\n",
    "        elif key == \"eyr\":\n",
    "            if not value.isnumeric() or len(value) != 4:\n",
    "                return False\n",
    "            year = int(value)\n",
    "            if year < 2020 or year > 2030:\n",
    "                return False\n",
    "        elif key == \"iyr\":\n",
    "            if not value.isnumeric() or len(value) != 4:\n",
    "                return False\n",
    "            year = int(value)\n",
    "            if year < 2010 or year > 2020:\n",
    "                return False\n",
    "        elif key == \"byr\":\n",
    "            if not value.isnumeric() or len(value) != 4:\n",
    "                return False\n",
    "            year = int(value)\n",
    "            if year < 1920 or year > 2002:\n",
    "                return False\n",
    "            \n",
    "    return needed_key_count == 7\n",
    "    \n",
    "\n",
    "valid_count = 0\n",
    "# print(entries)\n",
    "for entry in entries:\n",
    "    if isValid2(entry):\n",
    "        valid_count += 1\n",
    "    \n",
    "print(f'Valid entires: {valid_count}')"
   ]
  },
  {
   "cell_type": "markdown",
   "metadata": {},
   "source": [
    "## Day 5 - Binary Boarding\n",
    "\n",
    "Part 2 idea: Get all seat id's in list, sort."
   ]
  },
  {
   "cell_type": "code",
   "execution_count": 176,
   "metadata": {},
   "outputs": [
    {
     "name": "stdout",
     "output_type": "stream",
     "text": [
      "num of seats: 809\n",
      "822\n",
      "[13, 14, 15, 16, 17, 18, 19, 20, 21, 22, 23, 24, 25, 26, 27, 28, 29, 30, 31, 32, 33, 34, 35, 36, 37, 38, 39, 40, 41, 42, 43, 44, 45, 46, 47, 48, 49, 50, 51, 52, 53, 54, 55, 56, 57, 58, 59, 60, 61, 62, 63, 64, 65, 66, 67, 68, 69, 70, 71, 72, 73, 74, 75, 76, 77, 78, 79, 80, 81, 82, 83, 84, 85, 86, 87, 88, 89, 90, 91, 92, 93, 94, 95, 96, 97, 98, 99, 100, 101, 102, 103, 104, 105, 106, 107, 108, 109, 110, 111, 112, 113, 114, 115, 116, 117, 118, 119, 120, 121, 122, 123, 124, 125, 126, 127, 128, 129, 130, 131, 132, 133, 134, 135, 136, 137, 138, 139, 140, 141, 142, 143, 144, 145, 146, 147, 148, 149, 150, 151, 152, 153, 154, 155, 156, 157, 158, 159, 160, 161, 162, 163, 164, 165, 166, 167, 168, 169, 170, 171, 172, 173, 174, 175, 176, 177, 178, 179, 180, 181, 182, 183, 184, 185, 186, 187, 188, 189, 190, 191, 192, 193, 194, 195, 196, 197, 198, 199, 200, 201, 202, 203, 204, 205, 206, 207, 208, 209, 210, 211, 212, 213, 214, 215, 216, 217, 218, 219, 220, 221, 222, 223, 224, 225, 226, 227, 228, 229, 230, 231, 232, 233, 234, 235, 236, 237, 238, 239, 240, 241, 242, 243, 244, 245, 246, 247, 248, 249, 250, 251, 252, 253, 254, 255, 256, 257, 258, 259, 260, 261, 262, 263, 264, 265, 266, 267, 268, 269, 270, 271, 272, 273, 274, 275, 276, 277, 278, 279, 280, 281, 282, 283, 284, 285, 286, 287, 288, 289, 290, 291, 292, 293, 294, 295, 296, 297, 298, 299, 300, 301, 302, 303, 304, 305, 306, 307, 308, 309, 310, 311, 312, 313, 314, 315, 316, 317, 318, 319, 320, 321, 322, 323, 324, 325, 326, 327, 328, 329, 330, 331, 332, 333, 334, 335, 336, 337, 338, 339, 340, 341, 342, 343, 344, 345, 346, 347, 348, 349, 350, 351, 352, 353, 354, 355, 356, 357, 358, 359, 360, 361, 362, 363, 364, 365, 366, 367, 368, 369, 370, 371, 372, 373, 374, 375, 376, 377, 378, 379, 380, 381, 382, 383, 384, 385, 386, 387, 388, 389, 390, 391, 392, 393, 394, 395, 396, 397, 398, 399, 400, 401, 402, 403, 404, 405, 406, 407, 408, 409, 410, 411, 412, 413, 414, 415, 416, 417, 418, 419, 420, 421, 422, 423, 424, 425, 426, 427, 428, 429, 430, 431, 432, 433, 434, 435, 436, 437, 438, 439, 440, 441, 442, 443, 444, 445, 446, 447, 448, 449, 450, 451, 452, 453, 454, 455, 456, 457, 458, 459, 460, 461, 462, 463, 464, 465, 466, 467, 468, 469, 470, 471, 472, 473, 474, 475, 476, 477, 478, 479, 480, 481, 482, 483, 484, 485, 486, 487, 488, 489, 490, 491, 492, 493, 494, 495, 496, 497, 498, 499, 500, 501, 502, 503, 504, 505, 506, 507, 508, 509, 510, 511, 512, 513, 514, 515, 516, 517, 518, 519, 520, 521, 522, 523, 524, 525, 526, 527, 528, 529, 530, 531, 532, 533, 534, 535, 536, 537, 538, 539, 540, 541, 542, 543, 544, 545, 546, 547, 548, 549, 550, 551, 552, 553, 554, 555, 556, 557, 558, 559, 560, 561, 562, 563, 564, 565, 566, 567, 568, 569, 570, 571, 572, 573, 574, 575, 576, 577, 578, 579, 580, 581, 582, 583, 584, 585, 586, 587, 588, 589, 590, 591, 592, 593, 594, 595, 596, 597, 598, 599, 600, 601, 602, 603, 604, 605, 606, 607, 608, 609, 610, 611, 612, 613, 614, 615, 616, 617, 618, 619, 620, 621, 622, 623, 624, 625, 626, 627, 628, 629, 630, 631, 632, 633, 634, 635, 636, 637, 638, 639, 640, 641, 642, 643, 644, 645, 646, 647, 648, 649, 650, 651, 652, 653, 654, 655, 656, 657, 658, 659, 660, 661, 662, 663, 664, 665, 666, 667, 668, 669, 670, 671, 672, 673, 674, 675, 676, 677, 678, 679, 680, 681, 682, 683, 684, 685, 686, 687, 688, 689, 690, 691, 692, 693, 694, 695, 696, 697, 698, 699, 700, 701, 702, 703, 704, 706, 707, 708, 709, 710, 711, 712, 713, 714, 715, 716, 717, 718, 719, 720, 721, 722, 723, 724, 725, 726, 727, 728, 729, 730, 731, 732, 733, 734, 735, 736, 737, 738, 739, 740, 741, 742, 743, 744, 745, 746, 747, 748, 749, 750, 751, 752, 753, 754, 755, 756, 757, 758, 759, 760, 761, 762, 763, 764, 765, 766, 767, 768, 769, 770, 771, 772, 773, 774, 775, 776, 777, 778, 779, 780, 781, 782, 783, 784, 785, 786, 787, 788, 789, 790, 791, 792, 793, 794, 795, 796, 797, 798, 799, 800, 801, 802, 803, 804, 805, 806, 807, 808, 809, 810, 811, 812, 813, 814, 815, 816, 817, 818, 819, 820, 821, 822]\n"
     ]
    }
   ],
   "source": [
    "\"\"\"\n",
    "Read boarding passes from file\n",
    "\"\"\"\n",
    "file = open('inputs_2020/day5.txt', 'r')\n",
    "lines = []\n",
    "\n",
    "while True:\n",
    "    line = file.readline()\n",
    "    if not line:\n",
    "        break\n",
    "    else:\n",
    "        lines.append(line.strip())\n",
    "    \n",
    "num_of_seats = len(lines)\n",
    "seats = []\n",
    "print(f'num of seats: {len(lines)}')\n",
    "largest_seat_id = -1\n",
    "for bpass in lines:\n",
    "    low,high = 0,127\n",
    "    for char in bpass[:-3]:\n",
    "        mid = (high + low + 1) // 2\n",
    "        if char == 'F':\n",
    "            high = mid\n",
    "        else:\n",
    "            low = mid\n",
    "    row = low\n",
    "    low, high = 0, 7\n",
    "    for char in bpass[-3:]:\n",
    "        mid = (high + low + 1) // 2\n",
    "        if char == 'L':\n",
    "            high = mid\n",
    "        else:\n",
    "            low = mid\n",
    "    col = low\n",
    "    seat_id = row*8 + col\n",
    "    seats.append(seat_id)\n",
    "    if seat_id > largest_seat_id:\n",
    "        largest_seat_id = seat_id\n",
    "\n",
    "print(largest_seat_id)\n",
    "seats = sorted(seats)\n",
    "for i in range(len(seats))-1"
   ]
  },
  {
   "cell_type": "code",
   "execution_count": null,
   "metadata": {},
   "outputs": [],
   "source": []
  }
 ],
 "metadata": {
  "kernelspec": {
   "display_name": "Python 3",
   "language": "python",
   "name": "python3"
  },
  "language_info": {
   "codemirror_mode": {
    "name": "ipython",
    "version": 3
   },
   "file_extension": ".py",
   "mimetype": "text/x-python",
   "name": "python",
   "nbconvert_exporter": "python",
   "pygments_lexer": "ipython3",
   "version": "3.7.9"
  }
 },
 "nbformat": 4,
 "nbformat_minor": 4
}
